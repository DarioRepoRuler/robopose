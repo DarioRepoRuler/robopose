{
 "cells": [
  {
   "cell_type": "code",
   "execution_count": null,
   "metadata": {},
   "outputs": [],
   "source": [
    "%load_ext autoreload\n",
    "%autoreload 2\n",
    "import torch\n",
    "from PIL import Image\n",
    "from pathlib import Path\n",
    "import numpy as np\n",
    "\n",
    "from robopose.config import LOCAL_DATA_DIR\n",
    "from robopose.datasets.datasets_cfg import make_scene_dataset\n",
    "from robopose.rendering.bullet_scene_renderer import BulletSceneRenderer\n",
    "from robopose.visualization.singleview_articulated import make_singleview_prediction_plots\n",
    "from robopose.visualization.bokeh_utils import save_image_figure\n",
    "\n",
    "import os\n",
    "from tqdm import tqdm_notebook as tqdm\n",
    "from bokeh.plotting import gridplot\n",
    "from bokeh.io import show, output_notebook; output_notebook()\n",
    "os.environ['CUDA_VISIBLE_DEVICES'] = '0'"
   ]
  },
  {
   "cell_type": "code",
   "execution_count": null,
   "metadata": {},
   "outputs": [],
   "source": [
    "# Pick Robot\n",
    "renderer = BulletSceneRenderer('owi535')\n",
    "# renderer = BulletSceneRenderer('panda')\n",
    "# renderer = BulletSceneRenderer('baxter')\n",
    "# renderer = BulletSceneRenderer('iiwa7')"
   ]
  },
  {
   "cell_type": "code",
   "execution_count": null,
   "metadata": {},
   "outputs": [],
   "source": [
    "# Pick inference result_id and dataset\n",
    "\n",
    "# result_id = 'craves-lab-unknownq--1804'\n",
    "# dataset = 'craves.lab.real.test'\n",
    "\n",
    "# result_id = 'dream-panda-unknownq--1804'\n",
    "# dataset = 'dream.panda.real.orb'\n",
    "\n",
    "result_id = 'craves-youtube-unknownq-focal=1000--1804'\n",
    "dataset = 'craves.youtube'\n",
    "\n",
    "scene_ds = make_scene_dataset(dataset)\n",
    "\n",
    "results = torch.load(LOCAL_DATA_DIR / 'results' / result_id / f'dataset={dataset}' / 'results.pth.tar')"
   ]
  },
  {
   "cell_type": "code",
   "execution_count": null,
   "metadata": {},
   "outputs": [],
   "source": [
    "# Generate visualization for a few images\n",
    "type_joints = 'unknown'\n",
    "dets = 'full_image_detections'\n",
    "pred_keys = [\n",
    "    f'{dets}/{type_joints}_joints/init',\n",
    "]\n",
    "\n",
    "pred_keys += [f'{dets}/{type_joints}_joints/iteration={K}' for K in (1, 10)]\n",
    "print(pred_keys)\n",
    "\n",
    "n_images = len(results['predictions'][f'{dets}/{type_joints}_joints/init'])\n",
    "pred_ids = np.random.choice(np.arange(n_images), 5)\n",
    "fig_array = []\n",
    "save_dir = Path(f'unknown_joints_dataset={dataset}')\n",
    "\n",
    "fig_idx = 0\n",
    "all_figures = []\n",
    "def add_figure(fig):\n",
    "    fig.title.text = f'fig={len(all_figures)}'\n",
    "    all_figures.append(fig)\n",
    "    \n",
    "for pred_idx in tqdm(pred_ids):\n",
    "    row = []\n",
    "    for n, pred_key in enumerate(pred_keys):\n",
    "        if pred_key in results['predictions']:\n",
    "            pred = results['predictions'][pred_key][[pred_idx]]\n",
    "            figures = make_singleview_prediction_plots(scene_ds, renderer, pred)\n",
    "            if n == 0:\n",
    "                fig = figures['input_im']\n",
    "                add_figure(fig)\n",
    "                row.append(fig)\n",
    "            fig = figures['pred_overlay']\n",
    "            add_figure(fig)\n",
    "            row.append(fig)\n",
    "        rgb_input = figures['rgb_input']\n",
    "        rgb_overlay = figures['rgb_overlay']\n",
    "    fig_array.append(row)\n",
    "show(gridplot(fig_array, sizing_mode='scale_width'))"
   ]
  },
  {
   "cell_type": "code",
   "execution_count": null,
   "metadata": {},
   "outputs": [],
   "source": [
    "# Save selected figures\n",
    "\n",
    "save_ids = [0, 3]\n",
    "for idx in save_ids:\n",
    "    save_image_figure(all_figures[idx], f'images/examples_{idx}.jpg')"
   ]
  }
 ],
 "metadata": {
  "kernelspec": {
   "display_name": "robotpose",
   "language": "python",
   "name": "robotpose"
  },
  "language_info": {
   "codemirror_mode": {
    "name": "ipython",
    "version": 3
   },
   "file_extension": ".py",
   "mimetype": "text/x-python",
   "name": "python",
   "nbconvert_exporter": "python",
   "pygments_lexer": "ipython3",
   "version": "3.7.6"
  }
 },
 "nbformat": 4,
 "nbformat_minor": 4
}
